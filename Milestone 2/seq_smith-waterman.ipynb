{
  "nbformat": 4,
  "nbformat_minor": 0,
  "metadata": {
    "colab": {
      "provenance": [],
      "include_colab_link": true
    },
    "kernelspec": {
      "name": "python3",
      "display_name": "Python 3"
    },
    "language_info": {
      "name": "python"
    }
  },
  "cells": [
    {
      "cell_type": "markdown",
      "metadata": {
        "id": "view-in-github",
        "colab_type": "text"
      },
      "source": [
        "<a href=\"https://colab.research.google.com/github/agmahaha/CEPARCO-Integrating-Project/blob/main/seq_smith-waterman.ipynb\" target=\"_parent\"><img src=\"https://colab.research.google.com/assets/colab-badge.svg\" alt=\"Open In Colab\"/></a>"
      ]
    },
    {
      "cell_type": "code",
      "execution_count": 1,
      "metadata": {
        "id": "eVolLvojAVF4",
        "outputId": "a79cfa7a-b45c-423c-894c-ec6bddd42aae",
        "colab": {
          "base_uri": "https://localhost:8080/"
        }
      },
      "outputs": [
        {
          "output_type": "stream",
          "name": "stdout",
          "text": [
            "Writing smithwaterman.c\n"
          ]
        }
      ],
      "source": [
        "%%writefile smithwaterman.c\n",
        "#include <stdio.h>\n",
        "#include <stdlib.h>\n",
        "#include <string.h>\n",
        "#include <stdbool.h>\n",
        "\n",
        "int blosum62mat[25][25];\n",
        "\n",
        "int place(char a) {\n",
        "\tswitch(a) {\n",
        "\t\tcase 'A': return 0;\n",
        "\t\tcase 'R': return 1;\n",
        "\t\tcase 'N': return 2;\n",
        "\t\tcase 'D': return 3;\n",
        "\t\tcase 'C': return 4;\n",
        "\t\tcase 'Q': return 5;\n",
        "\t\tcase 'E': return 6;\n",
        "\t\tcase 'G': return 7;\n",
        "\t\tcase 'H': return 8;\n",
        "\t\tcase 'I': return 9;\n",
        "\t\tcase 'L': return 10;\n",
        "\t\tcase 'K': return 11;\n",
        "\t\tcase 'M': return 12;\n",
        "\t\tcase 'F': return 13;\n",
        "\t\tcase 'P': return 14;\n",
        "\t\tcase 'S': return 15;\n",
        "\t\tcase 'T': return 16;\n",
        "\t\tcase 'W': return 17;\n",
        "\t\tcase 'Y': return 18;\n",
        "\t\tcase 'V': return 19;\n",
        "\t\tcase 'B': return 20;\n",
        "\t\tcase 'J': return 21;\n",
        "\t\tcase 'Z': return 22;\n",
        "\t\tcase 'X': return 23;\n",
        "\t\tdefault: return 24;\n",
        "\t}\n",
        "}\n",
        "\n",
        "int score(char a, char b) {\n",
        "\tint dA,dB;\n",
        "\tdA = place(a);\n",
        "\tdB = place(b);\n",
        "\treturn blosum62mat[dA][dB];\n",
        "}\n",
        "\n",
        "void mana(char* seq1, char* seq2) {\n",
        "\tint k = (int)strlen(seq1) + 1;\n",
        "\tint h = (int)strlen(seq2) + 1;\n",
        "\tint i,j;\n",
        "\tint mat[k][h];\n",
        "  \tbool gap[k][h]; //keeps track of the gap\n",
        "\tfor (i=0;i<k;i++) {\n",
        "\t\tfor(j=0;j<h;j++) {\n",
        "\t\t\tif(i==0||j==0) {\n",
        "\t\t\t\tmat[i][j]=0;\n",
        "\t\t\t\tgap[i][j]=false;\n",
        "\t\t\t}\n",
        "\t\t\telse {\n",
        "\t\t\t\tint hgapsc = (!gap[i-1][j]) ? mat[i-1][j]-5 : mat[i-1][j]-1;\n",
        "\t\t\t\tint vgapsc = (!gap[i][j-1]) ? mat[i][j-1]-5 : mat[i][j-1]-1;\n",
        "\t\t\t\tint xscore = mat[i-1][j-1]+score(seq1[i-1],seq2[j-1]);\n",
        "\t\t\t\tif (hgapsc > vgapsc && hgapsc > xscore) {\n",
        "\t\t\t\t\tmat[i][j]=hgapsc;\n",
        "\t\t\t\t\tgap[i][j]=true;\n",
        "\t\t\t\t} else if (vgapsc > hgapsc && vgapsc > xscore) {\n",
        "\t\t\t\t\tmat[i][j]=vgapsc;\n",
        "\t\t\t\t\tgap[i][j]=true;\n",
        "\t\t\t\t} else {\n",
        "\t\t\t\t\tmat[i][j] = xscore;\n",
        "\t\t\t\t\tgap[i][j] = false;\n",
        "\t\t\t\t}\n",
        "\t\t\t\tif (mat[i][j]<0) {\n",
        "\t\t\t\t\tmat[i][j]=0;\n",
        "\t\t\t\t\tgap[i][j] = true;\n",
        "\t\t\t\t}\n",
        "\t\t\t}\n",
        "\t\t}\n",
        "\t}\n",
        "\n",
        "\tfor (i=0;i<k;i++) {\n",
        "\t\tfor (j=0;j<h;j++) {\n",
        "\t\t\tprintf(\"%d \", mat[i][j]);\n",
        "\t\t}\n",
        "\t\tprintf(\"\\n\");\n",
        "\t}\n",
        "}\n",
        "\n",
        "int main() {\n",
        "\tFILE* fp;\n",
        "\tint i=0,j=0;\n",
        "\tchar c;\n",
        "\tchar exseq1[101] = \"KKRIIHTKQNFNAWYKNELFLAKMLEMTTQGDVKCFDDGQHTFAWSHRNDYYKRPDIPASKTHDAKGYWMAMCMYATFDSLHNADFTQHWLHAMFQAYTL\";\n",
        "\tchar exseq2[101] = \"PFTIVPAPNEPVKIYTQTLMSPRIMGMRNNCSTLWNMYRVIHRKEAFSLEPFMQTWPRDQWDSQCCCKGKQLIIKPFMDLDPGRKALCPGWPNHTAWNDR\";\n",
        "\n",
        "\tif((fp = fopen(\"BLOSUM62.txt\", \"r\"))==NULL) return 1;\n",
        "\n",
        "\tfscanf(fp, \"%*[^\\n]\\n\");\n",
        "\tfscanf(fp, \"%*[^\\n]\\n\");\n",
        "\n",
        "\tfor(i = 0; i<25; i++) {\n",
        "\t\tfscanf(fp, \"%c\", &c);\n",
        "\t\tfor(j = 0; j<25; j++) {\n",
        "\t\t\tfscanf(fp, \"%d\", &blosum62mat[i][j]);\n",
        "\t\t}\n",
        "\t\tfscanf(fp, \"%c\", &c);\n",
        "\t}\n",
        "\n",
        "\tmana(exseq1,exseq2);\n",
        "\n",
        "\tfclose(fp);\n",
        "\treturn 0;\n",
        "}"
      ]
    },
    {
      "cell_type": "code",
      "source": [
        "%%shell\n",
        "gcc smithwaterman.c -o smithwaterman"
      ],
      "metadata": {
        "colab": {
          "base_uri": "https://localhost:8080/"
        },
        "id": "6G3KRX1Iqqjq",
        "outputId": "850099b3-a9d5-47bd-b55f-a6542e8824f3"
      },
      "execution_count": 2,
      "outputs": [
        {
          "output_type": "execute_result",
          "data": {
            "text/plain": []
          },
          "metadata": {},
          "execution_count": 2
        }
      ]
    },
    {
      "cell_type": "code",
      "source": [
        "%%shell\n",
        "./smithwaterman"
      ],
      "metadata": {
        "colab": {
          "base_uri": "https://localhost:8080/",
          "height": 304
        },
        "id": "P9X_onqnsU8Z",
        "outputId": "053b4ad9-e8ab-4bb7-ee75-52151bb45830"
      },
      "execution_count": 3,
      "outputs": [
        {
          "output_type": "error",
          "ename": "CalledProcessError",
          "evalue": "Command './smithwaterman\n' returned non-zero exit status 1.",
          "traceback": [
            "\u001b[0;31m---------------------------------------------------------------------------\u001b[0m",
            "\u001b[0;31mCalledProcessError\u001b[0m                        Traceback (most recent call last)",
            "\u001b[0;32m<ipython-input-3-3c24921253ce>\u001b[0m in \u001b[0;36m<cell line: 1>\u001b[0;34m()\u001b[0m\n\u001b[0;32m----> 1\u001b[0;31m \u001b[0mget_ipython\u001b[0m\u001b[0;34m(\u001b[0m\u001b[0;34m)\u001b[0m\u001b[0;34m.\u001b[0m\u001b[0mrun_cell_magic\u001b[0m\u001b[0;34m(\u001b[0m\u001b[0;34m'shell'\u001b[0m\u001b[0;34m,\u001b[0m \u001b[0;34m''\u001b[0m\u001b[0;34m,\u001b[0m \u001b[0;34m'./smithwaterman\\n'\u001b[0m\u001b[0;34m)\u001b[0m\u001b[0;34m\u001b[0m\u001b[0;34m\u001b[0m\u001b[0m\n\u001b[0m",
            "\u001b[0;32m/usr/local/lib/python3.10/dist-packages/google/colab/_shell.py\u001b[0m in \u001b[0;36mrun_cell_magic\u001b[0;34m(self, magic_name, line, cell)\u001b[0m\n\u001b[1;32m    332\u001b[0m     \u001b[0;32mif\u001b[0m \u001b[0mline\u001b[0m \u001b[0;32mand\u001b[0m \u001b[0;32mnot\u001b[0m \u001b[0mcell\u001b[0m\u001b[0;34m:\u001b[0m\u001b[0;34m\u001b[0m\u001b[0;34m\u001b[0m\u001b[0m\n\u001b[1;32m    333\u001b[0m       \u001b[0mcell\u001b[0m \u001b[0;34m=\u001b[0m \u001b[0;34m' '\u001b[0m\u001b[0;34m\u001b[0m\u001b[0;34m\u001b[0m\u001b[0m\n\u001b[0;32m--> 334\u001b[0;31m     \u001b[0;32mreturn\u001b[0m \u001b[0msuper\u001b[0m\u001b[0;34m(\u001b[0m\u001b[0;34m)\u001b[0m\u001b[0;34m.\u001b[0m\u001b[0mrun_cell_magic\u001b[0m\u001b[0;34m(\u001b[0m\u001b[0mmagic_name\u001b[0m\u001b[0;34m,\u001b[0m \u001b[0mline\u001b[0m\u001b[0;34m,\u001b[0m \u001b[0mcell\u001b[0m\u001b[0;34m)\u001b[0m\u001b[0;34m\u001b[0m\u001b[0;34m\u001b[0m\u001b[0m\n\u001b[0m\u001b[1;32m    335\u001b[0m \u001b[0;34m\u001b[0m\u001b[0m\n\u001b[1;32m    336\u001b[0m \u001b[0;34m\u001b[0m\u001b[0m\n",
            "\u001b[0;32m/usr/local/lib/python3.10/dist-packages/IPython/core/interactiveshell.py\u001b[0m in \u001b[0;36mrun_cell_magic\u001b[0;34m(self, magic_name, line, cell)\u001b[0m\n\u001b[1;32m   2471\u001b[0m             \u001b[0;32mwith\u001b[0m \u001b[0mself\u001b[0m\u001b[0;34m.\u001b[0m\u001b[0mbuiltin_trap\u001b[0m\u001b[0;34m:\u001b[0m\u001b[0;34m\u001b[0m\u001b[0;34m\u001b[0m\u001b[0m\n\u001b[1;32m   2472\u001b[0m                 \u001b[0margs\u001b[0m \u001b[0;34m=\u001b[0m \u001b[0;34m(\u001b[0m\u001b[0mmagic_arg_s\u001b[0m\u001b[0;34m,\u001b[0m \u001b[0mcell\u001b[0m\u001b[0;34m)\u001b[0m\u001b[0;34m\u001b[0m\u001b[0;34m\u001b[0m\u001b[0m\n\u001b[0;32m-> 2473\u001b[0;31m                 \u001b[0mresult\u001b[0m \u001b[0;34m=\u001b[0m \u001b[0mfn\u001b[0m\u001b[0;34m(\u001b[0m\u001b[0;34m*\u001b[0m\u001b[0margs\u001b[0m\u001b[0;34m,\u001b[0m \u001b[0;34m**\u001b[0m\u001b[0mkwargs\u001b[0m\u001b[0;34m)\u001b[0m\u001b[0;34m\u001b[0m\u001b[0;34m\u001b[0m\u001b[0m\n\u001b[0m\u001b[1;32m   2474\u001b[0m             \u001b[0;32mreturn\u001b[0m \u001b[0mresult\u001b[0m\u001b[0;34m\u001b[0m\u001b[0;34m\u001b[0m\u001b[0m\n\u001b[1;32m   2475\u001b[0m \u001b[0;34m\u001b[0m\u001b[0m\n",
            "\u001b[0;32m/usr/local/lib/python3.10/dist-packages/google/colab/_system_commands.py\u001b[0m in \u001b[0;36m_shell_cell_magic\u001b[0;34m(args, cmd)\u001b[0m\n\u001b[1;32m    110\u001b[0m   \u001b[0mresult\u001b[0m \u001b[0;34m=\u001b[0m \u001b[0m_run_command\u001b[0m\u001b[0;34m(\u001b[0m\u001b[0mcmd\u001b[0m\u001b[0;34m,\u001b[0m \u001b[0mclear_streamed_output\u001b[0m\u001b[0;34m=\u001b[0m\u001b[0;32mFalse\u001b[0m\u001b[0;34m)\u001b[0m\u001b[0;34m\u001b[0m\u001b[0;34m\u001b[0m\u001b[0m\n\u001b[1;32m    111\u001b[0m   \u001b[0;32mif\u001b[0m \u001b[0;32mnot\u001b[0m \u001b[0mparsed_args\u001b[0m\u001b[0;34m.\u001b[0m\u001b[0mignore_errors\u001b[0m\u001b[0;34m:\u001b[0m\u001b[0;34m\u001b[0m\u001b[0;34m\u001b[0m\u001b[0m\n\u001b[0;32m--> 112\u001b[0;31m     \u001b[0mresult\u001b[0m\u001b[0;34m.\u001b[0m\u001b[0mcheck_returncode\u001b[0m\u001b[0;34m(\u001b[0m\u001b[0;34m)\u001b[0m\u001b[0;34m\u001b[0m\u001b[0;34m\u001b[0m\u001b[0m\n\u001b[0m\u001b[1;32m    113\u001b[0m   \u001b[0;32mreturn\u001b[0m \u001b[0mresult\u001b[0m\u001b[0;34m\u001b[0m\u001b[0;34m\u001b[0m\u001b[0m\n\u001b[1;32m    114\u001b[0m \u001b[0;34m\u001b[0m\u001b[0m\n",
            "\u001b[0;32m/usr/local/lib/python3.10/dist-packages/google/colab/_system_commands.py\u001b[0m in \u001b[0;36mcheck_returncode\u001b[0;34m(self)\u001b[0m\n\u001b[1;32m    135\u001b[0m   \u001b[0;32mdef\u001b[0m \u001b[0mcheck_returncode\u001b[0m\u001b[0;34m(\u001b[0m\u001b[0mself\u001b[0m\u001b[0;34m)\u001b[0m\u001b[0;34m:\u001b[0m\u001b[0;34m\u001b[0m\u001b[0;34m\u001b[0m\u001b[0m\n\u001b[1;32m    136\u001b[0m     \u001b[0;32mif\u001b[0m \u001b[0mself\u001b[0m\u001b[0;34m.\u001b[0m\u001b[0mreturncode\u001b[0m\u001b[0;34m:\u001b[0m\u001b[0;34m\u001b[0m\u001b[0;34m\u001b[0m\u001b[0m\n\u001b[0;32m--> 137\u001b[0;31m       raise subprocess.CalledProcessError(\n\u001b[0m\u001b[1;32m    138\u001b[0m           \u001b[0mreturncode\u001b[0m\u001b[0;34m=\u001b[0m\u001b[0mself\u001b[0m\u001b[0;34m.\u001b[0m\u001b[0mreturncode\u001b[0m\u001b[0;34m,\u001b[0m \u001b[0mcmd\u001b[0m\u001b[0;34m=\u001b[0m\u001b[0mself\u001b[0m\u001b[0;34m.\u001b[0m\u001b[0margs\u001b[0m\u001b[0;34m,\u001b[0m \u001b[0moutput\u001b[0m\u001b[0;34m=\u001b[0m\u001b[0mself\u001b[0m\u001b[0;34m.\u001b[0m\u001b[0moutput\u001b[0m\u001b[0;34m\u001b[0m\u001b[0;34m\u001b[0m\u001b[0m\n\u001b[1;32m    139\u001b[0m       )\n",
            "\u001b[0;31mCalledProcessError\u001b[0m: Command './smithwaterman\n' returned non-zero exit status 1."
          ]
        }
      ]
    }
  ]
}